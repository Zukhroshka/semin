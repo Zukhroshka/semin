{
 "cells": [
  {
   "cell_type": "markdown",
   "id": "9321dd63",
   "metadata": {},
   "source": [
    "Написать 4 функции порождения списка целых значений: отсортированного (по возрастанию и убыванию), случайного и почти отсортированного по возрастанию. Каждая функция принимает длину списка в качестве аргумента."
   ]
  },
  {
   "cell_type": "code",
   "execution_count": 1,
   "id": "16fa3cfe",
   "metadata": {},
   "outputs": [
    {
     "name": "stdout",
     "output_type": "stream",
     "text": [
      "Отсортированный список по возрастанию: [1, 2, 3, 4, 5, 6, 7, 8, 9, 10]\n",
      "Отсортированный список по убыванию: [10, 9, 8, 7, 6, 5, 4, 3, 2, 1]\n",
      "Случайный список: [89, 20, 83, 28, 18, 1, 94, 22, 71, 17]\n",
      "Почти отсортированный список по возрастанию: [7, 5, 2, 3, 8, 9, 4, 1, 6, 10]\n"
     ]
    }
   ],
   "source": [
    "def generate_sorted_list_asc(length):\n",
    "    return list(range(1, length+1))\n",
    "\n",
    "def generate_sorted_list_desc(length):\n",
    "    return list(range(length, 0, -1))\n",
    "\n",
    "def generate_random_list(length):\n",
    "    return [random.randint(1, 100) for _ in range(length)]\n",
    "\n",
    "def generate_almost_sorted_list_asc(length):\n",
    "    sorted_list = list(range(1, length+1))\n",
    "    random.shuffle(sorted_list)\n",
    "    return sorted_list\n",
    "\n",
    "import random\n",
    "\n",
    "length = 10\n",
    "\n",
    "sorted_list_asc = generate_sorted_list_asc(length)\n",
    "sorted_list_desc = generate_sorted_list_desc(length)\n",
    "random_list = generate_random_list(length)\n",
    "almost_sorted_list_asc = generate_almost_sorted_list_asc(length)\n",
    "\n",
    "print(\"Отсортированный список по возрастанию:\", sorted_list_asc)\n",
    "print(\"Отсортированный список по убыванию:\", sorted_list_desc)\n",
    "print(\"Случайный список:\", random_list)\n",
    "print(\"Почти отсортированный список по возрастанию:\", almost_sorted_list_asc)"
   ]
  },
  {
   "cell_type": "markdown",
   "id": "2694cdfb",
   "metadata": {},
   "source": [
    "Реализовать функцию тестирования алгоритма сортировки. Процедура принимает на вход алгоритм сортировки и алгоритм порождения списка f_gen(list_len), генерирующий список заданной длины, количество повтороений теста и список длин использующихся для тестирования. Для каждой длины списка функция тестирования возвращает минимальное, среднее и наибольшее количество сравнений и перестановок."
   ]
  },
  {
   "cell_type": "code",
   "execution_count": 2,
   "id": "472082b8",
   "metadata": {},
   "outputs": [
    {
     "name": "stdout",
     "output_type": "stream",
     "text": [
      "{10: {'min_comparisons': 45, 'avg_comparisons': 45, 'max_comparisons': 45, 'min_swaps': 12, 'avg_swaps': 24.6, 'max_swaps': 33}, 100: {'min_comparisons': 4950, 'avg_comparisons': 4950, 'max_comparisons': 4950, 'min_swaps': 2145, 'avg_swaps': 2456.3, 'max_swaps': 2859}, 1000: {'min_comparisons': 499500, 'avg_comparisons': 499500, 'max_comparisons': 499500, 'min_swaps': 243065, 'avg_swaps': 247632.3, 'max_swaps': 253573}}\n"
     ]
    }
   ],
   "source": [
    "import statistics\n",
    "\n",
    "def test_sort_algorithm(sort_algorithm, list_generator, repetitions, lengths):\n",
    "    results = {}\n",
    "    \n",
    "    for length in lengths:\n",
    "        comparisons = []\n",
    "        swaps = []\n",
    "        for _ in range(repetitions):\n",
    "            test_list = list_generator(length)\n",
    "            sorted_list, num_comparisons, num_swaps = sort_algorithm(test_list)\n",
    "            comparisons.append(num_comparisons)\n",
    "            swaps.append(num_swaps)\n",
    "        \n",
    "        min_comp = min(comparisons)\n",
    "        avg_comp = statistics.mean(comparisons)\n",
    "        max_comp = max(comparisons)\n",
    "        \n",
    "        min_swap = min(swaps)\n",
    "        avg_swap = statistics.mean(swaps)\n",
    "        max_swap = max(swaps)\n",
    "        \n",
    "        results[length] = {\n",
    "            \"min_comparisons\": min_comp,\n",
    "            \"avg_comparisons\": avg_comp,\n",
    "            \"max_comparisons\": max_comp,\n",
    "            \"min_swaps\": min_swap,\n",
    "            \"avg_swaps\": avg_swap,\n",
    "            \"max_swaps\": max_swap\n",
    "        }\n",
    "    \n",
    "    return results\n",
    "\n",
    "def bubble_sort(arr):\n",
    "    comparisons = 0\n",
    "    swaps = 0\n",
    "    n = len(arr)\n",
    "    for i in range(n):\n",
    "        for j in range(0, n-i-1):\n",
    "            comparisons += 1\n",
    "            if arr[j] > arr[j+1] :\n",
    "                arr[j], arr[j+1] = arr[j+1], arr[j]\n",
    "                swaps += 1\n",
    "    return arr, comparisons, swaps\n",
    "\n",
    "results = test_sort_algorithm(bubble_sort, generate_random_list, 10, [10, 100, 1000])\n",
    "print(results)"
   ]
  },
  {
   "cell_type": "markdown",
   "id": "c8f2c0b4",
   "metadata": {},
   "source": [
    "Реализовать модификацию сортировки пузырьком: \"камешек-пузырек\" - с чередующимися проходами, приводящими к \"всплытию\" самого большого значения списка и \"погружению\" самого маленького значения из неотсортированной части списка."
   ]
  },
  {
   "cell_type": "code",
   "execution_count": 3,
   "id": "992d0b87",
   "metadata": {},
   "outputs": [
    {
     "name": "stdout",
     "output_type": "stream",
     "text": [
      "Отсортированный массив: [11, 12, 34, 64, 25, 22, 90]\n"
     ]
    }
   ],
   "source": [
    "def stone_bubble_sort(arr):\n",
    "    n = len(arr)\n",
    "    for i in range(n):\n",
    "        if i % 2 == 0:  # Всплывает максимальное значение\n",
    "            for j in range(0, n - i - 1, 2):\n",
    "                if arr[j] > arr[j+1]:\n",
    "                    arr[j], arr[j+1] = arr[j+1], arr[j]\n",
    "        else:  # Погружается минимальное значение\n",
    "            for j in range(1, n - i - 1, 2):\n",
    "                if arr[j] > arr[j+1]:\n",
    "                    arr[j], arr[j+1] = arr[j+1], arr[j]\n",
    "    return arr\n",
    "\n",
    "# Пример использования\n",
    "arr = [64, 34, 25, 12, 22, 11, 90]\n",
    "sorted_arr = stone_bubble_sort(arr)\n",
    "print(\"Отсортированный массив:\", sorted_arr)"
   ]
  },
  {
   "cell_type": "markdown",
   "id": "34235295",
   "metadata": {},
   "source": [
    "Протестировать алгоритм \"пузырек\" и \"камешек-пузырек\" на разных типах списков."
   ]
  },
  {
   "cell_type": "code",
   "execution_count": 4,
   "id": "7e104f45",
   "metadata": {},
   "outputs": [
    {
     "name": "stdout",
     "output_type": "stream",
     "text": [
      "Исходный случайный список: [37, 77, 22, 75, 31, 100, 49, 9, 86, 16]\n",
      "Список после сортировки 'пузырьком': [9, 16, 22, 31, 37, 49, 75, 77, 86, 100]\n",
      "\n",
      "Исходный отсортированный список: [0, 1, 2, 3, 4, 5, 6, 7, 8, 9]\n",
      "Список после сортировки 'камешек-пузырьком': [0, 1, 2, 3, 4, 5, 6, 7, 8, 9]\n",
      "\n",
      "Исходный обратно отсортированный список: [10, 9, 8, 7, 6, 5, 4, 3, 2, 1]\n",
      "Список после сортировки 'камешек-пузырьком': [1, 3, 5, 7, 9, 10, 8, 6, 4, 2]\n"
     ]
    }
   ],
   "source": [
    "import random\n",
    "\n",
    "# Реализация алгоритма \"пузырек\"\n",
    "def bubble_sort(arr):\n",
    "    n = len(arr)\n",
    "    for i in range(n):\n",
    "        for j in range(0, n-i-1):\n",
    "            if arr[j] > arr[j+1]:\n",
    "                arr[j], arr[j+1] = arr[j+1], arr[j]\n",
    "    return arr\n",
    "\n",
    "# Реализация модифицированного \"камешек-пузырек\"\n",
    "def stone_bubble_sort(arr):\n",
    "    n = len(arr)\n",
    "    for i in range(n):\n",
    "        if i % 2 == 0:\n",
    "            for j in range(0, n - i - 1, 2):\n",
    "                if arr[j] > arr[j+1]:\n",
    "                    arr[j], arr[j+1] = arr[j+1], arr[j]\n",
    "        else:\n",
    "            for j in range(1, n - i - 1, 2):\n",
    "                if arr[j] > arr[j+1]:\n",
    "                    arr[j], arr[j+1] = arr[j+1], arr[j]\n",
    "    return arr\n",
    "\n",
    "# Генерация разных типов списков для тестирования\n",
    "random_list = [random.randint(0, 100) for _ in range(10)]\n",
    "sorted_list = list(range(10))\n",
    "reversed_list = list(range(10, 0, -1))\n",
    "\n",
    "# Тестирование \"пузырька\"\n",
    "print(\"Исходный случайный список:\", random_list)\n",
    "print(\"Список после сортировки 'пузырьком':\", bubble_sort(random_list.copy()))\n",
    "\n",
    "# Тестирование \"камешек-пузырька\"\n",
    "print(\"\\nИсходный отсортированный список:\", sorted_list)\n",
    "print(\"Список после сортировки 'камешек-пузырьком':\", stone_bubble_sort(sorted_list.copy()))\n",
    "\n",
    "# Еще один пример для тестирования\n",
    "print(\"\\nИсходный обратно отсортированный список:\", reversed_list)\n",
    "print(\"Список после сортировки 'камешек-пузырьком':\", stone_bubble_sort(reversed_list.copy()))"
   ]
  },
  {
   "cell_type": "markdown",
   "id": "6fe170c9",
   "metadata": {},
   "source": [
    "Реализовать модификацию сортировки выбором на основе выбора из подсписков (описанного в лекции). Протестировать алгоритм."
   ]
  },
  {
   "cell_type": "code",
   "execution_count": 5,
   "id": "fd8d16e3",
   "metadata": {},
   "outputs": [
    {
     "name": "stdout",
     "output_type": "stream",
     "text": [
      "Отсортированный массив: [12, 25, 64, 11, 22, 90, 34]\n"
     ]
    }
   ],
   "source": [
    "def selection_sort_sublist(arr):\n",
    "    for i in range(len(arr)):\n",
    "        min_idx = i\n",
    "        for j in range(i+1, len(arr)):\n",
    "            if arr[j] < arr[min_idx]:\n",
    "                min_idx = j\n",
    "        arr[i], arr[min_idx] = arr[min_idx], arr[i]\n",
    "    return arr\n",
    "\n",
    "def sublist_selection_sort(arr, sublist_size):\n",
    "    n = len(arr)\n",
    "\n",
    "    for i in range(0, n, sublist_size):\n",
    "        sublist_end = min(i + sublist_size, n)\n",
    "        sublist = arr[i:sublist_end]\n",
    "        sorted_sublist = selection_sort_sublist(sublist)\n",
    "        arr[i:sublist_end] = sorted_sublist\n",
    "\n",
    "    return arr\n",
    "\n",
    "# Пример использования\n",
    "arr = [64, 25, 12, 22, 11, 90, 34]\n",
    "sublist_size = 3\n",
    "sorted_arr = sublist_selection_sort(arr, sublist_size)\n",
    "print(\"Отсортированный массив:\", sorted_arr)"
   ]
  },
  {
   "cell_type": "markdown",
   "id": "fcc8ad4b",
   "metadata": {},
   "source": [
    "Реализовать быструю сортировку с возможностью подсчета операций. Сравнить производительность алгоритма на случайных и упорядоченных (и почти упорядоченных) данных."
   ]
  },
  {
   "cell_type": "code",
   "execution_count": 6,
   "id": "e4ac557a",
   "metadata": {},
   "outputs": [
    {
     "name": "stdout",
     "output_type": "stream",
     "text": [
      "Отсортированный массив: [11, 12, 22, 25, 34, 64, 90]\n",
      "Количество сравнений: 8\n",
      "Количество обменов: 5\n"
     ]
    }
   ],
   "source": [
    "def quicksort(arr):\n",
    "    comparisons = 0\n",
    "    exchanges = 0\n",
    "\n",
    "    def partition(arr, low, high):\n",
    "        nonlocal comparisons, exchanges\n",
    "        pivot = arr[(low + high) // 2]\n",
    "        i = low - 1\n",
    "        j = high + 1\n",
    "\n",
    "        while True:\n",
    "            i += 1\n",
    "            while arr[i] < pivot:\n",
    "                i += 1\n",
    "                comparisons += 1\n",
    "\n",
    "            j -= 1\n",
    "            while arr[j] > pivot:\n",
    "                j -= 1\n",
    "                comparisons += 1\n",
    "            \n",
    "            if i >= j:\n",
    "                return j\n",
    "            \n",
    "            arr[i], arr[j] = arr[j], arr[i]\n",
    "            exchanges += 1\n",
    "\n",
    "    def quicksort_recursive(arr, low, high):\n",
    "        nonlocal comparisons, exchanges\n",
    "        if low < high:\n",
    "            partition_index = partition(arr, low, high)\n",
    "            quicksort_recursive(arr, low, partition_index)\n",
    "            quicksort_recursive(arr, partition_index + 1, high)\n",
    "\n",
    "    quicksort_recursive(arr, 0, len(arr) - 1)\n",
    "    return comparisons, exchanges\n",
    "\n",
    "# Пример использования\n",
    "arr = [64, 25, 12, 22, 11, 90, 34]\n",
    "comparisons, exchanges = quicksort(arr)\n",
    "print(\"Отсортированный массив:\", arr)\n",
    "print(\"Количество сравнений:\", comparisons)\n",
    "print(\"Количество обменов:\", exchanges)"
   ]
  },
  {
   "cell_type": "markdown",
   "id": "9d2decce",
   "metadata": {},
   "source": [
    "Улучшить работу быстрой сортировки на упорядоченных и почти упорядоченных за счет изменения алгоритма выбора элемента для разделения массива"
   ]
  },
  {
   "cell_type": "code",
   "execution_count": 7,
   "id": "81ab6e67",
   "metadata": {},
   "outputs": [
    {
     "ename": "IndexError",
     "evalue": "list index out of range",
     "output_type": "error",
     "traceback": [
      "\u001b[1;31m---------------------------------------------------------------------------\u001b[0m",
      "\u001b[1;31mIndexError\u001b[0m                                Traceback (most recent call last)",
      "Cell \u001b[1;32mIn[7], line 45\u001b[0m\n\u001b[0;32m     43\u001b[0m \u001b[38;5;66;03m# Пример использования\u001b[39;00m\n\u001b[0;32m     44\u001b[0m arr \u001b[38;5;241m=\u001b[39m [\u001b[38;5;241m64\u001b[39m, \u001b[38;5;241m25\u001b[39m, \u001b[38;5;241m12\u001b[39m, \u001b[38;5;241m22\u001b[39m, \u001b[38;5;241m11\u001b[39m, \u001b[38;5;241m90\u001b[39m, \u001b[38;5;241m34\u001b[39m]\n\u001b[1;32m---> 45\u001b[0m comparisons, exchanges \u001b[38;5;241m=\u001b[39m improved_quicksort(arr)\n\u001b[0;32m     46\u001b[0m \u001b[38;5;28mprint\u001b[39m(\u001b[38;5;124m\"\u001b[39m\u001b[38;5;124mОтсортированный массив:\u001b[39m\u001b[38;5;124m\"\u001b[39m, arr)\n\u001b[0;32m     47\u001b[0m \u001b[38;5;28mprint\u001b[39m(\u001b[38;5;124m\"\u001b[39m\u001b[38;5;124mКоличество сравнений:\u001b[39m\u001b[38;5;124m\"\u001b[39m, comparisons)\n",
      "Cell \u001b[1;32mIn[7], line 40\u001b[0m, in \u001b[0;36mimproved_quicksort\u001b[1;34m(arr)\u001b[0m\n\u001b[0;32m     37\u001b[0m         quicksort_recursive(arr, low, partition_index)\n\u001b[0;32m     38\u001b[0m         quicksort_recursive(arr, partition_index \u001b[38;5;241m+\u001b[39m \u001b[38;5;241m1\u001b[39m, high)\n\u001b[1;32m---> 40\u001b[0m quicksort_recursive(arr, \u001b[38;5;241m0\u001b[39m, \u001b[38;5;28mlen\u001b[39m(arr))\n\u001b[0;32m     41\u001b[0m \u001b[38;5;28;01mreturn\u001b[39;00m comparisons, exchanges\n",
      "Cell \u001b[1;32mIn[7], line 36\u001b[0m, in \u001b[0;36mimproved_quicksort.<locals>.quicksort_recursive\u001b[1;34m(arr, low, high)\u001b[0m\n\u001b[0;32m     34\u001b[0m \u001b[38;5;28;01mnonlocal\u001b[39;00m comparisons, exchanges\n\u001b[0;32m     35\u001b[0m \u001b[38;5;28;01mif\u001b[39;00m low \u001b[38;5;241m<\u001b[39m high:\n\u001b[1;32m---> 36\u001b[0m     partition_index \u001b[38;5;241m=\u001b[39m partition(arr, low, high)\n\u001b[0;32m     37\u001b[0m     quicksort_recursive(arr, low, partition_index)\n\u001b[0;32m     38\u001b[0m     quicksort_recursive(arr, partition_index \u001b[38;5;241m+\u001b[39m \u001b[38;5;241m1\u001b[39m, high)\n",
      "Cell \u001b[1;32mIn[7], line 17\u001b[0m, in \u001b[0;36mimproved_quicksort.<locals>.partition\u001b[1;34m(arr, low, high)\u001b[0m\n\u001b[0;32m     15\u001b[0m \u001b[38;5;28;01mdef\u001b[39;00m \u001b[38;5;21mpartition\u001b[39m(arr, low, high):\n\u001b[0;32m     16\u001b[0m     \u001b[38;5;28;01mnonlocal\u001b[39;00m comparisons, exchanges\n\u001b[1;32m---> 17\u001b[0m     median_of_three(arr, low, high)\n\u001b[0;32m     18\u001b[0m     pivot \u001b[38;5;241m=\u001b[39m arr[high \u001b[38;5;241m-\u001b[39m \u001b[38;5;241m1\u001b[39m]\n\u001b[0;32m     19\u001b[0m     i \u001b[38;5;241m=\u001b[39m low \u001b[38;5;241m-\u001b[39m \u001b[38;5;241m1\u001b[39m\n",
      "Cell \u001b[1;32mIn[7], line 9\u001b[0m, in \u001b[0;36mimproved_quicksort.<locals>.median_of_three\u001b[1;34m(arr, low, high)\u001b[0m\n\u001b[0;32m      7\u001b[0m \u001b[38;5;28;01mif\u001b[39;00m arr[low] \u001b[38;5;241m>\u001b[39m arr[mid]:\n\u001b[0;32m      8\u001b[0m     arr[low], arr[mid] \u001b[38;5;241m=\u001b[39m arr[mid], arr[low]\n\u001b[1;32m----> 9\u001b[0m \u001b[38;5;28;01mif\u001b[39;00m arr[mid] \u001b[38;5;241m>\u001b[39m arr[high]:\n\u001b[0;32m     10\u001b[0m     arr[mid], arr[high] \u001b[38;5;241m=\u001b[39m arr[high], arr[mid]\n\u001b[0;32m     11\u001b[0m \u001b[38;5;28;01mif\u001b[39;00m arr[low] \u001b[38;5;241m>\u001b[39m arr[mid]:\n",
      "\u001b[1;31mIndexError\u001b[0m: list index out of range"
     ]
    }
   ],
   "source": [
    "def improved_quicksort(arr):\n",
    "    comparisons = 0\n",
    "    exchanges = 0\n",
    "\n",
    "    def median_of_three(arr, low, high):\n",
    "        mid = (low + high) // 2\n",
    "        if arr[low] > arr[mid]:\n",
    "            arr[low], arr[mid] = arr[mid], arr[low]\n",
    "        if arr[mid] > arr[high]:\n",
    "            arr[mid], arr[high] = arr[high], arr[mid]\n",
    "        if arr[low] > arr[mid]:\n",
    "            arr[low], arr[mid] = arr[mid], arr[low]\n",
    "        arr[mid], arr[high - 1] = arr[high - 1], arr[mid]\n",
    "    \n",
    "    def partition(arr, low, high):\n",
    "        nonlocal comparisons, exchanges\n",
    "        median_of_three(arr, low, high)\n",
    "        pivot = arr[high - 1]\n",
    "        i = low - 1\n",
    "\n",
    "        for j in range(low, high):\n",
    "            comparisons += 1\n",
    "            if arr[j] <= pivot:\n",
    "                i += 1\n",
    "                arr[i], arr[j] = arr[j], arr[i]\n",
    "                exchanges += 1\n",
    "\n",
    "        arr[i + 1], arr[high - 1] = arr[high - 1], arr[i + 1]\n",
    "        exchanges += 1\n",
    "        \n",
    "        return i + 1\n",
    "\n",
    "    def quicksort_recursive(arr, low, high):\n",
    "        nonlocal comparisons, exchanges\n",
    "        if low < high:\n",
    "            partition_index = partition(arr, low, high)\n",
    "            quicksort_recursive(arr, low, partition_index)\n",
    "            quicksort_recursive(arr, partition_index + 1, high)\n",
    "\n",
    "    quicksort_recursive(arr, 0, len(arr))\n",
    "    return comparisons, exchanges\n",
    "\n",
    "# Пример использования\n",
    "arr = [64, 25, 12, 22, 11, 90, 34]\n",
    "comparisons, exchanges = improved_quicksort(arr)\n",
    "print(\"Отсортированный массив:\", arr)\n",
    "print(\"Количество сравнений:\", comparisons)\n",
    "print(\"Количество обменов:\", exchanges)"
   ]
  },
  {
   "cell_type": "markdown",
   "id": "805af6a6",
   "metadata": {},
   "source": [
    "Реализовать эффективный алгоритм получения из большого количества отсортированных списков одного отсортированного списка."
   ]
  },
  {
   "cell_type": "code",
   "execution_count": 8,
   "id": "681ef2e2",
   "metadata": {},
   "outputs": [
    {
     "name": "stdout",
     "output_type": "stream",
     "text": [
      "Отсортированный список после слияния: [0, 1, 2, 3, 4, 5, 6, 7, 8]\n"
     ]
    }
   ],
   "source": [
    "import heapq\n",
    "\n",
    "def merge_sorted_lists(lists):\n",
    "    result = []\n",
    "    heap = []\n",
    "    \n",
    "    for i, lst in enumerate(lists):\n",
    "        if lst:\n",
    "            heapq.heappush(heap, (lst[0], i, 0))\n",
    "    \n",
    "    while heap:\n",
    "        val, list_index, idx = heapq.heappop(heap)\n",
    "        result.append(val)\n",
    "        \n",
    "        if idx + 1 < len(lists[list_index]):\n",
    "            new_val = lists[list_index][idx + 1]\n",
    "            heapq.heappush(heap, (new_val, list_index, idx + 1))\n",
    "    \n",
    "    return result\n",
    "\n",
    "# Пример использования\n",
    "lists = [[1, 3, 5], [2, 4, 6], [0, 7, 8]]\n",
    "result = merge_sorted_lists(lists)\n",
    "print(\"Отсортированный список после слияния:\", result)"
   ]
  },
  {
   "cell_type": "markdown",
   "id": "1e92d60d",
   "metadata": {},
   "source": [
    "Модифицировать последовательность длин шагов в сортировке Шелла. 19) Модифицировать последовательность длин шагов в сортировке Шелла. На 2[𝑛/2𝑘+1]+1\n",
    "т.е. при первой сортировке будут использоваться шаги: 2[n/4]+1, 2[n/8]+1, ... , 3, 1 ."
   ]
  },
  {
   "cell_type": "code",
   "execution_count": 9,
   "id": "e9535ed9",
   "metadata": {},
   "outputs": [
    {
     "name": "stdout",
     "output_type": "stream",
     "text": [
      "Отсортированный список с модифицированной последовательностью шагов Шелла: [5, 3, 8, 4, 2, 1, 9]\n"
     ]
    }
   ],
   "source": [
    "def mod_shell_sort(arr):\n",
    "    n = len(arr)\n",
    "    k = 1\n",
    "    while 2*(n//(2**k)+1) + 1 < n:\n",
    "        k += 1\n",
    "    \n",
    "    gaps = [(2*(n//(2**i)+1) + 1) for i in range(k, -1, -1)]\n",
    "    \n",
    "    for gap in gaps:\n",
    "        for i in range(gap, n):\n",
    "            temp = arr[i]\n",
    "            j = i\n",
    "            while j >= gap and arr[j-gap] > temp:\n",
    "                arr[j] = arr[j-gap]\n",
    "                j -= gap\n",
    "            arr[j] = temp\n",
    "    \n",
    "    return arr\n",
    "\n",
    "# Пример использования\n",
    "arr = [5, 3, 8, 4, 2, 1, 9]\n",
    "sorted_arr = mod_shell_sort(arr)\n",
    "print(\"Отсортированный список с модифицированной последовательностью шагов Шелла:\", sorted_arr)"
   ]
  },
  {
   "cell_type": "code",
   "execution_count": null,
   "id": "a488d95b",
   "metadata": {},
   "outputs": [],
   "source": []
  }
 ],
 "metadata": {
  "kernelspec": {
   "display_name": "Python 3 (ipykernel)",
   "language": "python",
   "name": "python3"
  },
  "language_info": {
   "codemirror_mode": {
    "name": "ipython",
    "version": 3
   },
   "file_extension": ".py",
   "mimetype": "text/x-python",
   "name": "python",
   "nbconvert_exporter": "python",
   "pygments_lexer": "ipython3",
   "version": "3.11.5"
  }
 },
 "nbformat": 4,
 "nbformat_minor": 5
}
