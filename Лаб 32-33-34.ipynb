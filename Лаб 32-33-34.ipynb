{
 "cells": [
  {
   "cell_type": "markdown",
   "id": "a390675e",
   "metadata": {},
   "source": [
    "Используя модуль array и библиотеку numpy, решить следующие задачи:\n",
    "а) Дан целочисленный массив размера  N . Найти максимальное количество его одинаковых элементов.\n",
    "б) Дана целочисленная матрица размера  M×N . Найти количество ее столбцов, все элементы которых различны."
   ]
  },
  {
   "cell_type": "code",
   "execution_count": 1,
   "id": "b41a8070",
   "metadata": {},
   "outputs": [
    {
     "name": "stdout",
     "output_type": "stream",
     "text": [
      "Максимальное количество одинаковых элементов: 4\n"
     ]
    }
   ],
   "source": [
    "#а)\n",
    "\n",
    "import array\n",
    "import numpy as np\n",
    "\n",
    "# Создаем целочисленный массив\n",
    "arr = array.array('i', [1, 2, 2, 3, 3, 3, 4, 4, 4, 4])\n",
    "\n",
    "# Находим уникальные элементы и их количество\n",
    "unique_elements, counts = np.unique(arr, return_counts=True)\n",
    "\n",
    "# Находим максимальное количество одинаковых элементов\n",
    "max_count = np.max(counts)\n",
    "\n",
    "print(\"Максимальное количество одинаковых элементов:\", max_count)\n"
   ]
  },
  {
   "cell_type": "code",
   "execution_count": 2,
   "id": "52eaed2f",
   "metadata": {},
   "outputs": [
    {
     "name": "stdout",
     "output_type": "stream",
     "text": [
      "Количество столбцов, все элементы которых различны: 4\n"
     ]
    }
   ],
   "source": [
    "#б)\n",
    "\n",
    "import array\n",
    "import numpy as np\n",
    "\n",
    "# Создаем целочисленную матрицу\n",
    "M = 3  # количество строк\n",
    "N = 4  # количество столбцов\n",
    "matrix = np.array([[1, 2, 3, 4],\n",
    "                    [5, 6, 7, 8],\n",
    "                    [9, 10, 11, 12]])\n",
    "\n",
    "# Находим количество столбцов, все элементы которых различны\n",
    "unique_columns_count = 0\n",
    "for j in range(N):\n",
    "    column = matrix[:, j]\n",
    "    if len(np.unique(column)) == M:\n",
    "        unique_columns_count += 1\n",
    "\n",
    "print(\"Количество столбцов, все элементы которых различны:\", unique_columns_count)\n",
    "\n"
   ]
  },
  {
   "cell_type": "markdown",
   "id": "bae0dbf6",
   "metadata": {},
   "source": [
    "Дан стек и два элемента  A  и  B . Необходимо удалить из стека все элементы, которые находятся между  A  и  B  (включая сами  A  и  B )."
   ]
  },
  {
   "cell_type": "code",
   "execution_count": 10,
   "id": "336d23f3",
   "metadata": {},
   "outputs": [
    {
     "name": "stdout",
     "output_type": "stream",
     "text": [
      "[6, 7, 8]\n"
     ]
    }
   ],
   "source": [
    "def remove_elements_between_A_and_B(stack, A, B):\n",
    "    temp_stack = []\n",
    "    found_A = False\n",
    "\n",
    "    for element in stack:\n",
    "        if element == A:\n",
    "            found_A = True\n",
    "            while temp_stack and temp_stack[-1] != B:\n",
    "                temp_stack.pop()\n",
    "        elif element == B:\n",
    "            found_A = False\n",
    "\n",
    "        if not found_A:\n",
    "            temp_stack.append(element)\n",
    "\n",
    "    return temp_stack\n",
    "\n",
    "# Пример использования\n",
    "stack = [1, 2, 3, 4, 5, 6, 7, 8]\n",
    "A = 1\n",
    "B = 6\n",
    "\n",
    "result = remove_elements_between_A_and_B(stack, A, B)\n",
    "print(result)\n"
   ]
  },
  {
   "cell_type": "markdown",
   "id": "899df80f",
   "metadata": {},
   "source": [
    "Создать класс очереди, который будет поддерживать операции добавления элемента в конец очереди, удаления элемента из начала очереди и поиска минимального элемента в очереди."
   ]
  },
  {
   "cell_type": "code",
   "execution_count": 11,
   "id": "f5622e1d",
   "metadata": {},
   "outputs": [
    {
     "name": "stdout",
     "output_type": "stream",
     "text": [
      "1\n",
      "1\n"
     ]
    }
   ],
   "source": [
    "class Number:\n",
    "    def __init__(self):\n",
    "        self.queue = []  # Инициализация пустой очереди\n",
    "        self.min_element = None  # Инициализация переменной для минимального элемента\n",
    "\n",
    "    def enqueue(self, element):\n",
    "        self.queue.append(element)  # Добавление элемента в конец очереди\n",
    "\n",
    "        if self.min_element is None or element < self.min_element:\n",
    "            self.min_element = element  # Обновление минимального элемента при необходимости\n",
    "\n",
    "    def dequeue(self):\n",
    "        if not self.queue:\n",
    "            return None  # Возвращаем None, если очередь пуста\n",
    "\n",
    "        removed_element = self.queue.pop(0)  # Удаление элемента из начала очереди\n",
    "\n",
    "        if removed_element == self.min_element:\n",
    "            if self.queue:\n",
    "                self.min_element = min(self.queue)  # Поиск нового минимального элемента\n",
    "            else:\n",
    "                self.min_element = None\n",
    "\n",
    "        return removed_element\n",
    "\n",
    "    def get_min_element(self):\n",
    "        return self.min_element  # Возвращаем минимальный элемент\n",
    "\n",
    "# Пример использования\n",
    "q = Number()\n",
    "q.enqueue(3)\n",
    "q.enqueue(1)\n",
    "q.enqueue(4)\n",
    "q.enqueue(2)\n",
    "\n",
    "print(q.get_min_element())  # Выводим минимальный элемент (1)\n",
    "\n",
    "q.dequeue()\n",
    "print(q.get_min_element())  # Выводим минимальный элемент после удаления (1)\n"
   ]
  },
  {
   "cell_type": "code",
   "execution_count": null,
   "id": "925aeb55",
   "metadata": {},
   "outputs": [],
   "source": []
  }
 ],
 "metadata": {
  "kernelspec": {
   "display_name": "Python 3 (ipykernel)",
   "language": "python",
   "name": "python3"
  },
  "language_info": {
   "codemirror_mode": {
    "name": "ipython",
    "version": 3
   },
   "file_extension": ".py",
   "mimetype": "text/x-python",
   "name": "python",
   "nbconvert_exporter": "python",
   "pygments_lexer": "ipython3",
   "version": "3.11.5"
  }
 },
 "nbformat": 4,
 "nbformat_minor": 5
}
