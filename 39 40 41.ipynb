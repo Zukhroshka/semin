{
 "cells": [
  {
   "cell_type": "markdown",
   "id": "8cd05842",
   "metadata": {},
   "source": [
    "а) Создать класс «Книга» с полями «Название», «Автор», «Год выпуска» и «Количество страниц». Создать хеш-таблицу для хранения объектов класса «Книга» по ключу — ISBN."
   ]
  },
  {
   "cell_type": "code",
   "execution_count": 15,
   "id": "ff3ede78",
   "metadata": {},
   "outputs": [
    {
     "name": "stdout",
     "output_type": "stream",
     "text": [
      "Harry Potter\n",
      "J.K. Rowling\n",
      "1997\n",
      "320\n"
     ]
    }
   ],
   "source": [
    "class Book:\n",
    "    def __init__(self, title, author, year, pages):\n",
    "        self.title = title\n",
    "        self.author = author\n",
    "        self.year = year\n",
    "        self.pages = pages\n",
    "\n",
    "class BookCatalog:\n",
    "    def __init__(self):\n",
    "        self.catalog = {}\n",
    "\n",
    "    def add_book(self, isbn, book):\n",
    "        self.catalog[isbn] = book\n",
    "\n",
    "    def get_book(self, isbn):\n",
    "        return self.catalog.get(isbn)\n",
    "\n",
    "# Пример использования\n",
    "book1 = Book(\"Harry Potter\", \"J.K. Rowling\", 1997, 320)\n",
    "\n",
    "\n",
    "catalog = BookCatalog()\n",
    "catalog.add_book(\"978-0439554930\", book1)\n",
    "\n",
    "\n",
    "print(catalog.get_book(\"978-0439554930\").title)\n",
    "print(catalog.get_book(\"978-0439554930\").author)\n",
    "print(catalog.get_book(\"978-0439554930\").year)\n",
    "print(catalog.get_book(\"978-0439554930\").pages)\n"
   ]
  },
  {
   "cell_type": "markdown",
   "id": "311bd5fd",
   "metadata": {},
   "source": [
    "б) Написать функцию для нахождения количества элементов из хеш-таблицы, у которых значение больше заданного значения."
   ]
  },
  {
   "cell_type": "code",
   "execution_count": 20,
   "id": "8e772f77",
   "metadata": {},
   "outputs": [
    {
     "name": "stdout",
     "output_type": "stream",
     "text": [
      "Количество элементов со значением больше 15: 3\n"
     ]
    }
   ],
   "source": [
    "def count_elements_greater_than_value(hash_table, value):\n",
    "    count = 0\n",
    "    for key in hash_table:\n",
    "        if hash_table[key] > value:\n",
    "            count += 1\n",
    "    return count\n",
    "\n",
    "# Пример использования\n",
    "hash_table = {\n",
    "    \"A\": 10,\n",
    "    \"B\": 20,\n",
    "    \"C\": 30,\n",
    "    \"D\": 15,\n",
    "    \"E\": 25\n",
    "}\n",
    "\n",
    "value = 15\n",
    "result = count_elements_greater_than_value(hash_table, value)\n",
    "print(f\"Количество элементов со значением больше {value}: {result}\")\n"
   ]
  },
  {
   "cell_type": "markdown",
   "id": "fbbd766c",
   "metadata": {},
   "source": [
    "в) Реализуйте хеш-таблицу для хранения информации о товарах на складе. Ключом является штрих-код товара, значение — объект, содержащий информацию о товаре (название, количество, цена и т.д.). Используйте метод разрешения коллизий методом цепочек."
   ]
  },
  {
   "cell_type": "code",
   "execution_count": 19,
   "id": "2d4b71de",
   "metadata": {},
   "outputs": [
    {
     "name": "stdout",
     "output_type": "stream",
     "text": [
      "продукт 1 - количество: 50, цена: 100\n",
      "продукт 2 - количество: 30, цена: 150\n"
     ]
    }
   ],
   "source": [
    "class Product:\n",
    "    def __init__(self, name, quantity, price):\n",
    "        self.name = name\n",
    "        self.quantity = quantity\n",
    "        self.price = price\n",
    "\n",
    "    def __str__(self):\n",
    "        return f\"{self.name} - количество: {self.quantity}, цена: {self.price}\"\n",
    "\n",
    "\n",
    "class HashTable:\n",
    "    def __init__(self, size):\n",
    "        self.size = size\n",
    "        self.table = [[] for _ in range(size)]\n",
    "\n",
    "    def _hash_function(self, key):\n",
    "        return hash(key) % self.size\n",
    "\n",
    "    def insert(self, key, product):\n",
    "        index = self._hash_function(key)\n",
    "        self.table[index].append((key, product))\n",
    "\n",
    "    def get(self, key):\n",
    "        index = self._hash_function(key)\n",
    "        for item in self.table[index]:\n",
    "            if item[0] == key:\n",
    "                return item[1]\n",
    "        return None\n",
    "\n",
    "# Пример использования\n",
    "hash_table = HashTable(10)\n",
    "\n",
    "product1 = Product(\"продукт 1\", 50, 100)\n",
    "product2 = Product(\"продукт 2\", 30, 150)\n",
    "\n",
    "hash_table.insert(\"123456789\", product1)\n",
    "hash_table.insert(\"987654321\", product2)\n",
    "\n",
    "print(hash_table.get(\"123456789\"))\n",
    "print(hash_table.get(\"987654321\"))\n"
   ]
  },
  {
   "cell_type": "code",
   "execution_count": null,
   "id": "b35a0ed1",
   "metadata": {},
   "outputs": [],
   "source": [
    "\n",
    "\n",
    "\n",
    "\n",
    "\n",
    "\n"
   ]
  }
 ],
 "metadata": {
  "kernelspec": {
   "display_name": "Python 3 (ipykernel)",
   "language": "python",
   "name": "python3"
  },
  "language_info": {
   "codemirror_mode": {
    "name": "ipython",
    "version": 3
   },
   "file_extension": ".py",
   "mimetype": "text/x-python",
   "name": "python",
   "nbconvert_exporter": "python",
   "pygments_lexer": "ipython3",
   "version": "3.10.9"
  }
 },
 "nbformat": 4,
 "nbformat_minor": 5
}
