{
 "cells": [
  {
   "cell_type": "markdown",
   "id": "ab820218",
   "metadata": {},
   "source": [
    "При помощи стека (можно использовать любую реализацию стека, например, из лекции) проверить, что в строке, содержащей большой фрагмент кода на python, корректно открываются и закрываются скобки '(' и ')'. Заводить какие-либо счетчики и вообще вести подсчет скобок запрещено. Например, в следующей строке корректное количество скобок: '((dsasdas((das(d)das)d)asd)da)' А вот в следующей закрывающих больше, чем открывающих: '(f(gfhd((hgfdg((fghh)dads)das))ds)adddads())))'"
   ]
  },
  {
   "cell_type": "code",
   "execution_count": 1,
   "id": "7ffbddcf",
   "metadata": {},
   "outputs": [
    {
     "name": "stdout",
     "output_type": "stream",
     "text": [
      "True\n",
      "False\n"
     ]
    }
   ],
   "source": [
    "class Stack:\n",
    "    def __init__(self):\n",
    "        self.items = []\n",
    "\n",
    "    def is_empty(self):\n",
    "        return self.items == []\n",
    "\n",
    "    def push(self, item):\n",
    "        self.items.append(item)\n",
    "\n",
    "    def pop(self):\n",
    "        if not self.is_empty():\n",
    "            return self.items.pop()\n",
    "        else:\n",
    "            return None\n",
    "\n",
    "    def peek(self):\n",
    "        if not self.is_empty():\n",
    "            return self.items[-1]\n",
    "        else:\n",
    "            return None\n",
    "\n",
    "def check_brackets(string):\n",
    "    stack = Stack()\n",
    "    for char in string:\n",
    "        if char == '(':\n",
    "            stack.push(char)\n",
    "        elif char == ')':\n",
    "            if stack.peek() == '(':\n",
    "                stack.pop()\n",
    "            else:\n",
    "                return False\n",
    "    return stack.is_empty()\n",
    "\n",
    "# Пример использования\n",
    "string1 = '((dsasdas((das(d)das)d)asd)da)'\n",
    "string2 = '(f(gfhd((hgfdg((fghh)dads)das))ds)adddads())))'\n",
    "\n",
    "print(check_brackets(string1))  # Вернет True\n",
    "print(check_brackets(string2))  # Вернет False"
   ]
  },
  {
   "cell_type": "markdown",
   "id": "6b89320c",
   "metadata": {},
   "source": [
    "С помощью списка (list) реализовать стек. При создании стека нужно передать максимальную длину стека. В случае попытки добавления элемента, приводящего к превышению емкости стека возвращать ошибку. Стек должен поддерживать следующие операции: S.push(e): добавление элемента e на вершину стека S. S.pop(): удаляет и возвращает верхний элемент стека S. Если стек пуст, то возникает ошибка. S.top(): возвращает верхний элемент стека S, не удаляя его. Если стек пуст, то возникает ошибка. S.is_empty( ): возвращает True если стек S не содержит ни одного элемента. len(S): возвращает текущеее количество элементов в стеке S."
   ]
  },
  {
   "cell_type": "code",
   "execution_count": 2,
   "id": "9b08371c",
   "metadata": {},
   "outputs": [
    {
     "name": "stdout",
     "output_type": "stream",
     "text": [
      "3\n",
      "3\n",
      "2\n",
      "2\n",
      "True\n"
     ]
    },
    {
     "ename": "Exception",
     "evalue": "Ошибка: стек пуст",
     "output_type": "error",
     "traceback": [
      "\u001b[1;31m---------------------------------------------------------------------------\u001b[0m",
      "\u001b[1;31mException\u001b[0m                                 Traceback (most recent call last)",
      "Cell \u001b[1;32mIn[2], line 46\u001b[0m\n\u001b[0;32m     43\u001b[0m s\u001b[38;5;241m.\u001b[39mpop()\n\u001b[0;32m     44\u001b[0m \u001b[38;5;28mprint\u001b[39m(s\u001b[38;5;241m.\u001b[39mis_empty())  \u001b[38;5;66;03m# Выведет True\u001b[39;00m\n\u001b[1;32m---> 46\u001b[0m s\u001b[38;5;241m.\u001b[39mpop()  \u001b[38;5;66;03m# Вызовет ошибку: стек пуст\u001b[39;00m\n\u001b[0;32m     47\u001b[0m s\u001b[38;5;241m.\u001b[39mpush(\u001b[38;5;241m4\u001b[39m)\n\u001b[0;32m     48\u001b[0m s\u001b[38;5;241m.\u001b[39mpush(\u001b[38;5;241m5\u001b[39m)\n",
      "Cell \u001b[1;32mIn[2], line 13\u001b[0m, in \u001b[0;36mStack.pop\u001b[1;34m(self)\u001b[0m\n\u001b[0;32m     11\u001b[0m \u001b[38;5;28;01mdef\u001b[39;00m \u001b[38;5;21mpop\u001b[39m(\u001b[38;5;28mself\u001b[39m):\n\u001b[0;32m     12\u001b[0m     \u001b[38;5;28;01mif\u001b[39;00m \u001b[38;5;28mself\u001b[39m\u001b[38;5;241m.\u001b[39mis_empty():\n\u001b[1;32m---> 13\u001b[0m         \u001b[38;5;28;01mraise\u001b[39;00m \u001b[38;5;167;01mException\u001b[39;00m(\u001b[38;5;124m\"\u001b[39m\u001b[38;5;124mОшибка: стек пуст\u001b[39m\u001b[38;5;124m\"\u001b[39m)\n\u001b[0;32m     14\u001b[0m     \u001b[38;5;28;01mreturn\u001b[39;00m \u001b[38;5;28mself\u001b[39m\u001b[38;5;241m.\u001b[39mstack\u001b[38;5;241m.\u001b[39mpop()\n",
      "\u001b[1;31mException\u001b[0m: Ошибка: стек пуст"
     ]
    }
   ],
   "source": [
    "class Stack:\n",
    "    def __init__(self, max_length):\n",
    "        self.stack = []\n",
    "        self.max_length = max_length\n",
    "\n",
    "    def push(self, element):\n",
    "        if len(self.stack) == self.max_length:\n",
    "            raise Exception(\"Ошибка: превышение емкости стека\")\n",
    "        self.stack.append(element)\n",
    "\n",
    "    def pop(self):\n",
    "        if self.is_empty():\n",
    "            raise Exception(\"Ошибка: стек пуст\")\n",
    "        return self.stack.pop()\n",
    "\n",
    "    def top(self):\n",
    "        if self.is_empty():\n",
    "            raise Exception(\"Ошибка: стек пуст\")\n",
    "        return self.stack[-1]\n",
    "\n",
    "    def is_empty(self):\n",
    "        return len(self.stack) == 0\n",
    "\n",
    "    def __len__(self):\n",
    "        return len(self.stack)\n",
    "\n",
    "# Пример использования\n",
    "max_length = 5\n",
    "s = Stack(max_length)\n",
    "\n",
    "s.push(1)\n",
    "s.push(2)\n",
    "s.push(3)\n",
    "\n",
    "print(s.top())  # Выведет 3\n",
    "print(len(s))    # Выведет 3\n",
    "\n",
    "s.pop()\n",
    "print(s.top())  # Выведет 2\n",
    "print(len(s))    # Выведет 2\n",
    "\n",
    "s.pop()\n",
    "s.pop()\n",
    "print(s.is_empty())  # Выведет True\n",
    "\n",
    "s.pop()  # Вызовет ошибку: стек пуст\n",
    "s.push(4)\n",
    "s.push(5)\n",
    "s.push(6)  # Вызовет ошибку: превышение емкости стека"
   ]
  },
  {
   "cell_type": "markdown",
   "id": "51dea3c5",
   "metadata": {},
   "source": [
    "Реализовать класс однонаправленного связанного списка."
   ]
  },
  {
   "cell_type": "code",
   "execution_count": 3,
   "id": "c3052290",
   "metadata": {},
   "outputs": [
    {
     "name": "stdout",
     "output_type": "stream",
     "text": [
      "[1, 2, 3]\n"
     ]
    }
   ],
   "source": [
    "class Node:\n",
    "    def __init__(self, data=None):\n",
    "        self.data = data\n",
    "        self.next = None\n",
    "\n",
    "class LinkedList:\n",
    "    def __init__(self):\n",
    "        self.head = None\n",
    "\n",
    "    def is_empty(self):\n",
    "        return self.head is None\n",
    "\n",
    "    def append(self, data):\n",
    "        new_node = Node(data)\n",
    "        if self.head is None:\n",
    "            self.head = new_node\n",
    "            return\n",
    "        current = self.head\n",
    "        while current.next:\n",
    "            current = current.next\n",
    "        current.next = new_node\n",
    "\n",
    "    def display(self):\n",
    "        elements = []\n",
    "        current = self.head\n",
    "        while current:\n",
    "            elements.append(current.data)\n",
    "            current = current.next\n",
    "        print(elements)\n",
    "\n",
    "# Пример использования\n",
    "ll = LinkedList()\n",
    "ll.append(1)\n",
    "ll.append(2)\n",
    "ll.append(3)\n",
    "\n",
    "ll.display()  # Выведет: [1, 2, 3]"
   ]
  },
  {
   "cell_type": "markdown",
   "id": "105bc2d0",
   "metadata": {},
   "source": [
    "3.1) Реализовать метод добавления элемента в начало списка"
   ]
  },
  {
   "cell_type": "code",
   "execution_count": 4,
   "id": "aeda4cb7",
   "metadata": {},
   "outputs": [
    {
     "name": "stdout",
     "output_type": "stream",
     "text": [
      "3 2 1 \n"
     ]
    }
   ],
   "source": [
    "class Node:\n",
    "    def __init__(self, data):\n",
    "        self.data = data\n",
    "        self.prev = None\n",
    "        self.next = None\n",
    "\n",
    "class DoublyLinkedList:\n",
    "    def __init__(self):\n",
    "        self.head = None\n",
    "        self.tail = None\n",
    "\n",
    "    def add_to_beginning(self, data):\n",
    "        new_node = Node(data)\n",
    "        if self.head is None:\n",
    "            self.head = new_node\n",
    "            self.tail = new_node\n",
    "        else:\n",
    "            new_node.next = self.head\n",
    "            self.head.prev = new_node\n",
    "            self.head = new_node\n",
    "\n",
    "    def display(self):\n",
    "        current = self.head\n",
    "        while current:\n",
    "            print(current.data, end=\" \")\n",
    "            current = current.next\n",
    "        print()\n",
    "# Пример использования\n",
    "dll = DoublyLinkedList()\n",
    "dll.add_to_beginning(1)\n",
    "dll.add_to_beginning(2)\n",
    "dll.add_to_beginning(3)\n",
    "dll.display()  # Вывод: 3 2 1"
   ]
  },
  {
   "cell_type": "markdown",
   "id": "55607b13",
   "metadata": {},
   "source": [
    "На базе класса однонаправленного связанного списка реализовать двунаправленный связанный список."
   ]
  },
  {
   "cell_type": "code",
   "execution_count": 5,
   "id": "f73036b0",
   "metadata": {},
   "outputs": [
    {
     "name": "stdout",
     "output_type": "stream",
     "text": [
      "[1, 2, 3]\n"
     ]
    }
   ],
   "source": [
    "class Node:\n",
    "    def __init__(self, data=None):\n",
    "        self.data = data\n",
    "        self.prev = None\n",
    "        self.next = None\n",
    "\n",
    "class DoublyLinkedList:\n",
    "    def __init__(self):\n",
    "        self.head = None\n",
    "        self.tail = None\n",
    "\n",
    "    def is_empty(self):\n",
    "        return self.head is None\n",
    "\n",
    "    def append(self, data):\n",
    "        new_node = Node(data)\n",
    "        if self.head is None:\n",
    "            self.head = new_node\n",
    "            self.tail = new_node\n",
    "            return\n",
    "        new_node.prev = self.tail\n",
    "        self.tail.next = new_node\n",
    "        self.tail = new_node\n",
    "\n",
    "    def display(self):\n",
    "        elements = []\n",
    "        current = self.head\n",
    "        while current:\n",
    "            elements.append(current.data)\n",
    "            current = current.next\n",
    "        print(elements)\n",
    "# Пример использования\n",
    "dll = DoublyLinkedList()\n",
    "dll.append(1)\n",
    "dll.append(2)\n",
    "dll.append(3)\n",
    "\n",
    "dll.display()  # Выведет: [1, 2, 3]"
   ]
  },
  {
   "cell_type": "markdown",
   "id": "09111ac7",
   "metadata": {},
   "source": [
    " Реализовать метод добавления элемента в начало списка."
   ]
  },
  {
   "cell_type": "code",
   "execution_count": 9,
   "id": "e9040ae5",
   "metadata": {},
   "outputs": [
    {
     "name": "stdout",
     "output_type": "stream",
     "text": [
      "[1, 2, 3]\n"
     ]
    }
   ],
   "source": [
    "class DoublyLinkedList:\n",
    "    def __init__(self):\n",
    "        self.head = None\n",
    "        self.tail = None\n",
    "\n",
    "    def is_empty(self):\n",
    "        return self.head is None\n",
    "\n",
    "    def append(self, data):\n",
    "        new_node = Node(data)\n",
    "        if self.head is None:\n",
    "            self.head = new_node\n",
    "            self.tail = new_node\n",
    "            return\n",
    "        new_node.prev = self.tail\n",
    "        self.tail.next = new_node\n",
    "        self.tail = new_node\n",
    "\n",
    "    def prepend(self, data):\n",
    "        new_node = Node(data)\n",
    "        if self.head is None:\n",
    "            self.head = new_node\n",
    "            self.tail = new_node\n",
    "        else:\n",
    "            new_node.next = self.head\n",
    "            self.head.prev = new_node\n",
    "            self.head = new_node\n",
    "\n",
    "    def display(self):\n",
    "        elements = []\n",
    "        current = self.head\n",
    "        while current:\n",
    "            elements.append(current.data)\n",
    "            current = current.next\n",
    "        print(elements)\n",
    "\n",
    "# Пример использования\n",
    "zll = DoublyLinkedList()\n",
    "zll.append(2)\n",
    "zll.append(3)\n",
    "zll.prepend(1)\n",
    "zll.display()  # Выведет: [1, 2, 3]"
   ]
  },
  {
   "cell_type": "markdown",
   "id": "7640be61",
   "metadata": {},
   "source": [
    "При помощи класса связанного списка реализовать очередь."
   ]
  },
  {
   "cell_type": "code",
   "execution_count": 15,
   "id": "597dd777",
   "metadata": {},
   "outputs": [
    {
     "ename": "IndentationError",
     "evalue": "unindent does not match any outer indentation level (<tokenize>, line 33)",
     "output_type": "error",
     "traceback": [
      "\u001b[1;36m  File \u001b[1;32m<tokenize>:33\u001b[1;36m\u001b[0m\n\u001b[1;33m    def display(self):\u001b[0m\n\u001b[1;37m    ^\u001b[0m\n\u001b[1;31mIndentationError\u001b[0m\u001b[1;31m:\u001b[0m unindent does not match any outer indentation level\n"
     ]
    }
   ],
   "source": [
    "class Node:\n",
    "    def __init__(self, data=None):\n",
    "        self.data = data\n",
    "        self.next = None\n",
    "\n",
    "class Queue:\n",
    "    def __init__(self):\n",
    "        self.front = None\n",
    "        self.rear = None\n",
    "\n",
    "    def is_empty(self):\n",
    "        return self.front is None\n",
    "\n",
    "    def enqueue(self, data):\n",
    "        new_node = Node(data)\n",
    "        if self.rear is None:\n",
    "            self.front = new_node\n",
    "            self.rear = new_node\n",
    "        else:\n",
    "            self.rear.next = new_node\n",
    "            self.rear = new_node\n",
    "\n",
    "    def dequeue(self):\n",
    "        if self.is_empty():\n",
    "            print(\"Queue is empty\")\n",
    "            return None\n",
    "        data = self.front.data\n",
    "        self.front = self.front.next\n",
    "        if self.front is None:\n",
    "            self.rear = None\n",
    "        return data\n",
    "\n",
    "     def display(self):\n",
    "        elements = []\n",
    "        current = self.front\n",
    "        while current:\n",
    "            elements.append(current.data)\n",
    "            current = current.next\n",
    "        print(elements)\n",
    "\n",
    "# Пример использования\n",
    "queue = Queue()\n",
    "queue.enqueue(1)\n",
    "queue.enqueue(2)\n",
    "queue.enqueue(3)\n",
    "\n",
    "queue.display()  # Выведет: [1, 2, 3]\n",
    "\n",
    "queue.dequeue()\n",
    "queue.display()  # Выведет: [2, 3]"
   ]
  },
  {
   "cell_type": "code",
   "execution_count": null,
   "id": "d58b4b8a",
   "metadata": {},
   "outputs": [],
   "source": []
  }
 ],
 "metadata": {
  "kernelspec": {
   "display_name": "Python 3 (ipykernel)",
   "language": "python",
   "name": "python3"
  },
  "language_info": {
   "codemirror_mode": {
    "name": "ipython",
    "version": 3
   },
   "file_extension": ".py",
   "mimetype": "text/x-python",
   "name": "python",
   "nbconvert_exporter": "python",
   "pygments_lexer": "ipython3",
   "version": "3.11.5"
  }
 },
 "nbformat": 4,
 "nbformat_minor": 5
}
