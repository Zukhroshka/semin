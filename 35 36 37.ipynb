{
 "cells": [
  {
   "cell_type": "markdown",
   "id": "da79f2bb",
   "metadata": {},
   "source": [
    "36 Реализовать функцию, которая находит средний элемент в двусвязном списке."
   ]
  },
  {
   "cell_type": "code",
   "execution_count": null,
   "id": "b4dfdda3",
   "metadata": {},
   "outputs": [],
   "source": [
    "class Node:\n",
    "    def __init__(self, data):\n",
    "        self.data = data\n",
    "        self.prev = None\n",
    "        self.next = None\n",
    "# Функция `find_middle_element` принимает на вход голову списка (в данном случае узел `node1`) и находит середину списка.\n",
    "def find_middle_element(head):\n",
    "    current = head\n",
    "    length = 0\n",
    "#  с помощью цикла устанавливается текущий узел на узел, соответствующий середине списка.\n",
    "    while current:\n",
    "        length += 1\n",
    "        current = current.next\n",
    "\n",
    "    middle_index = length // 2\n",
    "    current = head\n",
    "\n",
    "    for _ in range(middle_index):\n",
    "        current = current.next\n",
    "\n",
    "    return current.data\n",
    "\n",
    "# Пример использования\n",
    "# Создаем двусвязный список: 1 <-> 2 <-> 3 <-> 4 <-> 5\n",
    "node1 = Node(1)\n",
    "node2 = Node(2)\n",
    "node3 = Node(3)\n",
    "node4 = Node(4)\n",
    "node5 = Node(5)\n",
    "\n",
    "node1.next = node2\n",
    "node2.prev = node1\n",
    "node2.next = node3\n",
    "node3.prev = node2\n",
    "node3.next = node4\n",
    "node4.prev = node3\n",
    "node4.next = node5\n",
    "node5.prev = node4\n",
    "\n",
    "print(find_middle_element(node1))  # Выведет 3"
   ]
  },
  {
   "cell_type": "markdown",
   "id": "72c82ab2",
   "metadata": {},
   "source": [
    "37 Реализовать функцию, которая сортирует циклический двусвязный список по возрастанию."
   ]
  },
  {
   "cell_type": "code",
   "execution_count": 18,
   "id": "b64d9474",
   "metadata": {},
   "outputs": [
    {
     "name": "stdout",
     "output_type": "stream",
     "text": [
      "Исходный циклический двусвязный список:\n",
      "29 10 42 5 \n",
      "\n",
      "Отсортированный циклический двусвязный список:\n",
      "29 5 10 42 "
     ]
    }
   ],
   "source": [
    "class Node:\n",
    "    def __init__(self, data):\n",
    "        self.data = data\n",
    "        self.prev = None\n",
    "        self.next = None\n",
    "\n",
    "def sort_circular_doubly_linked_list(head):\n",
    "    if head is None:\n",
    "        return None\n",
    "\n",
    "    current = head.next\n",
    "\n",
    "    while current != head:\n",
    "        value = current.data\n",
    "        temp = current.prev\n",
    "\n",
    "        while temp != head and temp.data > value:\n",
    "            temp.next.data = temp.data\n",
    "            temp = temp.prev\n",
    "        \n",
    "        temp.next.data = value\n",
    "        current = current.next\n",
    "\n",
    "    return head\n",
    "\n",
    "\n",
    "\n",
    "\n",
    "# Создаем циклический двусвязный список\n",
    "node1 = Node(29)\n",
    "node2 = Node(10)\n",
    "node3 = Node(42)\n",
    "node4 = Node(5)\n",
    "\n",
    "node1.next = node2\n",
    "node2.prev = node1\n",
    "node2.next = node3\n",
    "node3.prev = node2\n",
    "node3.next = node4\n",
    "node4.prev = node3\n",
    "node4.next = node1\n",
    "node1.prev = node4\n",
    "\n",
    "head = node1\n",
    "\n",
    "print(\"Исходный циклический двусвязный список:\")\n",
    "print_circular_doubly_linked_list(head)\n",
    "\n",
    "# Сортируем циклический двусвязный список\n",
    "sorted_head = sort_circular_doubly_linked_list(head)\n",
    "\n",
    "print(\"\\n\\nОтсортированный циклический двусвязный список:\")\n",
    "print_circular_doubly_linked_list(sorted_head)\n"
   ]
  },
  {
   "cell_type": "code",
   "execution_count": null,
   "id": "00556c65",
   "metadata": {},
   "outputs": [],
   "source": []
  }
 ],
 "metadata": {
  "kernelspec": {
   "display_name": "Python 3 (ipykernel)",
   "language": "python",
   "name": "python3"
  },
  "language_info": {
   "codemirror_mode": {
    "name": "ipython",
    "version": 3
   },
   "file_extension": ".py",
   "mimetype": "text/x-python",
   "name": "python",
   "nbconvert_exporter": "python",
   "pygments_lexer": "ipython3",
   "version": "3.10.9"
  }
 },
 "nbformat": 4,
 "nbformat_minor": 5
}
